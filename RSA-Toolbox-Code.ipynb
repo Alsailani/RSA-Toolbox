{
 "cells": [
  {
   "cell_type": "markdown",
   "metadata": {},
   "source": [
    "## RSA (cryptosystem) Toolbox"
   ]
  },
  {
   "cell_type": "markdown",
   "metadata": {},
   "source": [
    "Mohammed Alsailani\n"
   ]
  },
  {
   "cell_type": "markdown",
   "metadata": {},
   "source": [
    "<hr />\n",
    "\n",
    "# Table of Contents\n",
    "\n",
    "### 1. Introduction\n",
    "\n",
    "### 2. RSA Code Package \n",
    "###### &nbsp;&nbsp;&nbsp;&nbsp;&nbsp;&nbsp; 2.1 Basic tool set\n",
    "###### &nbsp;&nbsp;&nbsp;&nbsp;&nbsp;&nbsp; 2.2 First tool set\n",
    "###### &nbsp;&nbsp;&nbsp;&nbsp;&nbsp;&nbsp; 2.3 Second tool set\n",
    "\n",
    "### 3. RSA More Code\n",
    "\n",
    "###### &nbsp;&nbsp;&nbsp;&nbsp;&nbsp;&nbsp;  Encode\n",
    "###### &nbsp;&nbsp;&nbsp;&nbsp;&nbsp;&nbsp;  Decode\n",
    "\n",
    "### 4. Demo\n",
    "\n",
    "### 5. How to break codes \n",
    "\n",
    "### 6. Multithreading code breaking code\n"
   ]
  },
  {
   "cell_type": "markdown",
   "metadata": {},
   "source": [
    "\n",
    "\n",
    "\n",
    "\n",
    "\n"
   ]
  },
  {
   "cell_type": "markdown",
   "metadata": {},
   "source": [
    "\n",
    "\n",
    "\n",
    "\n",
    "\n",
    "\n",
    "### 1. Introduction"
   ]
  },
  {
   "cell_type": "markdown",
   "metadata": {},
   "source": [
    "In this notebook, we provide step by step how to build an RSA package for encrypting and decrypting messages. \n",
    "\n",
    "RSA is considered asymmetric encryption, where we have public and private keys. The private keys are used to decrypt messages while public keys are used to encrypt messages. RSA was called after its inventors  (Rivest–Shamir–Adleman).\n",
    "\n",
    "You can share with others your public RSA key if it is secure enough. They can encrypt any messages for you, and you can use your private key to decrypt messages.\n"
   ]
  },
  {
   "cell_type": "markdown",
   "metadata": {},
   "source": [
    "### 2.1\n",
    "#### Basic tool set\n"
   ]
  },
  {
   "cell_type": "code",
   "execution_count": 1,
   "metadata": {},
   "outputs": [
    {
     "name": "stdout",
     "output_type": "stream",
     "text": [
      "Q.E.D\n"
     ]
    }
   ],
   "source": [
    "def Convert_Text(_string):\n",
    "    #define empty list then convert every character in the input to ascii and append it to integer_list \n",
    "    #then retun the ascii list\n",
    "    integer_list = []\n",
    "    for i in _string: \n",
    "        integer_list.append(ord(i))\n",
    "    return integer_list\n",
    "#test code\n",
    "assert Convert_Text(\"hello\")==[104, 101, 108, 108, 111], 'Incorrect result' \n",
    "print(\"Q.E.D\")"
   ]
  },
  {
   "cell_type": "code",
   "execution_count": 2,
   "metadata": {},
   "outputs": [
    {
     "name": "stdout",
     "output_type": "stream",
     "text": [
      "Q.E.D\n"
     ]
    }
   ],
   "source": [
    "def Convert_Num(_list):\n",
    "    #define empty string \n",
    "    #convert every ascii integer in the input to string and add it the end of the sting\n",
    "    #then return the text string.\n",
    "    _string = ''\n",
    "    for i in _list: \n",
    "        _string += chr(i)\n",
    "    return _string\n",
    "\n",
    "\n",
    "#test code\n",
    "assert Convert_Num([104, 101, 108, 108, 111]) == 'hello', 'Incorrect result'\n",
    "print(\"Q.E.D\")"
   ]
  },
  {
   "cell_type": "code",
   "execution_count": 3,
   "metadata": {},
   "outputs": [
    {
     "name": "stdout",
     "output_type": "stream",
     "text": [
      "Q.E.D\n"
     ]
    }
   ],
   "source": [
    "def Convert_Binary_String(_int):\n",
    "\n",
    "    bits=\"\" #empty sting to store results\n",
    "    \n",
    "    #while int >  0, add the remainder to results string and update the input by doing integer division by two\n",
    "    while (_int > 0):  \n",
    "        sigDig = _int % 2\n",
    "        _int=_int // 2\n",
    "        \n",
    "        bits=bits+str(sigDig)\n",
    "        \n",
    "    \n",
    "    bits = bits[::-1] # flip order of list\n",
    "    \n",
    "    return bits\n",
    "\n",
    "#test code\n",
    "assert Convert_Binary_String(345) == \"101011001\", 'Incorrect result'\n",
    "print(\"Q.E.D\")"
   ]
  },
  {
   "cell_type": "markdown",
   "metadata": {},
   "source": [
    "### 2.2 \n",
    "#### First tool set.\n",
    "\n"
   ]
  },
  {
   "cell_type": "code",
   "execution_count": 4,
   "metadata": {},
   "outputs": [
    {
     "name": "stdout",
     "output_type": "stream",
     "text": [
      "Q.E.D\n"
     ]
    }
   ],
   "source": [
    "def FME(b, n, m):\n",
    "\n",
    "    \n",
    "    #initialize the result to 1 and start with b then repeatdly square\n",
    "    result = 1 \n",
    "    square=b \n",
    "        \n",
    "    while (n>0): #loop to convert to binary, stop when quotient is 0,get the least sig. bit in order and update the quotient\n",
    "        k = n % 2 \n",
    "        n= n//2 \n",
    "        if k == 1:  #if bit is 1, update results\n",
    "            result = (result * square) % m\n",
    "        square = (square * square) % m #repeatedly square b and find remainder\n",
    "        \n",
    "    return result\n",
    "\n",
    "\n",
    "\n",
    "assert FME(4,13,497) == 445, 'Incorrect result'\n",
    "print(\"Q.E.D\")"
   ]
  },
  {
   "cell_type": "code",
   "execution_count": 5,
   "metadata": {},
   "outputs": [
    {
     "name": "stdout",
     "output_type": "stream",
     "text": [
      "Q.E.D\n"
     ]
    }
   ],
   "source": [
    "def Euclidean_Alg(a, b):\n",
    "\n",
    "    while (b>0): # continue while the divisor is not zero.\n",
    "    \n",
    "        #Get quotient and remainder\n",
    "        k = a % b\n",
    "        q = a//b\n",
    "        \n",
    "        #update number a to divisor and b to remainder.\n",
    "        a=b\n",
    "        b=k\n",
    "        \n",
    "    return a #return GCD, a when b is zero\n",
    "\n",
    "\n",
    "#check\n",
    "assert Euclidean_Alg(26,91) == 13, 'Incorrect result'\n",
    "print(\"Q.E.D\")\n"
   ]
  },
  {
   "cell_type": "markdown",
   "metadata": {},
   "source": [
    "### 2.3\n",
    "#### Second tool set\n",
    "\n"
   ]
  },
  {
   "cell_type": "code",
   "execution_count": 6,
   "metadata": {},
   "outputs": [],
   "source": [
    "import random\n",
    "def Find_Public_Key_e(p, q):\n",
    "    \n",
    "    #get n\n",
    "    n = p * q\n",
    "    \n",
    "    #warning if n is smaller than 150\n",
    "    if n<150:\n",
    "        print(\"Warning, n is smaller than 150, can't convert all ascii\")\n",
    "    \n",
    "    #fine e\n",
    "    #try max 1000 times until you find e\n",
    "    # e is relativeley prime to (p-1)*(q-1) but not equal to p or q\n",
    "    #keep seeding random e from 11 to 1500\n",
    "    #if the condition found return e\n",
    "    \n",
    "    for i in range(1000):\n",
    "        e=random.randrange(11, n)\n",
    "        if ( (Euclidean_Alg(e, (p-1)*(q-1) ) == 1) and not(e==p or e==q) ):\n",
    "            return(e,n)\n",
    "    print(\"key can't be found after 1000 tries\")\n",
    "\n",
    "#unfortunetly, can't create assert to check the code against a case because it create random e    "
   ]
  },
  {
   "cell_type": "code",
   "execution_count": 7,
   "metadata": {},
   "outputs": [
    {
     "name": "stdout",
     "output_type": "stream",
     "text": [
      "Q.E.D\n"
     ]
    }
   ],
   "source": [
    "def extended_gcd(m,n):\n",
    "    \n",
    "    (s1,t1)=(1,0) #initalize Bezout Coefficents \n",
    "    (s2,t2)=(0,1)\n",
    "    \n",
    "    while (n>0): # continue while the divisor is not zero.\n",
    "    \n",
    "        #Update GCM\n",
    "        k = m % n\n",
    "        q = m//n\n",
    "        \n",
    "        m=n\n",
    "        n=k\n",
    "        \n",
    "        #update Bezout Coefficents \n",
    "        (s1_hat,t1_hat)=(s2,t2)\n",
    "        (s2_hat,t2_hat)=(s1-q*s2,t1-q*t2)\n",
    "         \n",
    "        \n",
    "        (s1,t1)=(s1_hat,t1_hat)\n",
    "        (s2,t2)= (s2_hat,t2_hat)\n",
    "        \n",
    "    return m, s1, t1 #return GCD and Bezout Coefficents\n",
    "\n",
    "\n",
    "#check\n",
    "assert extended_gcd(26,91) == (13,-3,1), 'Incorrect result'\n",
    "print(\"Q.E.D\")\n",
    "\n"
   ]
  },
  {
   "cell_type": "code",
   "execution_count": 8,
   "metadata": {},
   "outputs": [],
   "source": [
    "def Find_Private_Key_d(e, p, q):\n",
    "\n",
    "    \n",
    "    #calculate n\n",
    "    n=p*q\n",
    "    \n",
    "    \n",
    "    #get the inverse which the Bezouts coefficents s1.\n",
    "    d=extended_gcd(e,(p-1)*(q-1))[1]\n",
    "    \n",
    "    #if inverse is negative add (p-1)*(q-1) until it becomes posotive\n",
    "    while d < 0:\n",
    "        d = d + ( (p-1)*(q-1) )\n",
    "        \n",
    "    \n",
    "    return (d,n)\n",
    "\n"
   ]
  },
  {
   "cell_type": "markdown",
   "metadata": {},
   "source": [
    "### 3.\n",
    "#### Putting things all together.\n",
    "\n"
   ]
  },
  {
   "cell_type": "code",
   "execution_count": 9,
   "metadata": {},
   "outputs": [
    {
     "name": "stdout",
     "output_type": "stream",
     "text": [
      "Q.E.D\n"
     ]
    }
   ],
   "source": [
    "def Encode(n, e, message):\n",
    "\n",
    "    \n",
    "    #convert message to ascii\n",
    "    message_bin=Convert_Text(message)\n",
    "\n",
    "    #initialize empty list for the cipher text\n",
    "    cipher_text = []\n",
    "    \n",
    "    #for every bin in message encrypt using mapping\n",
    "    for i in message_bin:\n",
    "        cipher_text.append(FME(i,e,n))\n",
    "    \n",
    "    #return cipher text\n",
    "    return cipher_text\n",
    "\n",
    "\n",
    "#check code\n",
    "assert Encode(5251, 3, \"Hello Earth\")==[427, 1105, 4723, 4723, 2371, 1262, 2947, 4250, 762, 1349, 1150], \"Incorrect results\"\n",
    "print(\"Q.E.D\")"
   ]
  },
  {
   "cell_type": "code",
   "execution_count": 10,
   "metadata": {},
   "outputs": [
    {
     "name": "stdout",
     "output_type": "stream",
     "text": [
      "Q.E.D\n"
     ]
    }
   ],
   "source": [
    "def Decode(n, d, cipher_text):\n",
    "    \n",
    "    message = ''\n",
    "    \n",
    "    message_num=[]\n",
    "    \n",
    "    #mapping use the fast modular exponentiation algorithm to decrypt\n",
    "    for i in cipher_text:\n",
    "        message_num.append(FME(i,d,n))\n",
    "    \n",
    "    #convert from ascii to english letter\n",
    "    message=Convert_Num(message_num)\n",
    "    \n",
    "    return message\n",
    "\n",
    "#check code\n",
    "assert Decode(5251, 3403, [427, 1105, 4723, 4723, 2371, 1262, 2947, 4250, 762, 1349, 1150])=='Hello Earth', \"Incorrect\"\n",
    "print(\"Q.E.D\")"
   ]
  },
  {
   "cell_type": "markdown",
   "metadata": {
    "tags": []
   },
   "source": [
    "### 4.  Demo \n"
   ]
  },
  {
   "cell_type": "markdown",
   "metadata": {},
   "source": [
    "##### Generatign keys\n",
    "\n",
    "The process of generating keys start first by finding p and q that are prime. In addition, the multipicaltion of p and q should be greater 150 to avoid issues with ASCII.\n",
    "\n",
    "The Find_Public_Key_e(p,q) and Find_Private_Key_d(e, p, q) function will generate the keys for you. Be carefull that the private key functions uses the e output from the public key function.\n",
    "\n",
    "In the example below p=43 and q=59.\n",
    "it returns public key (e, n) \n",
    "and the private key (d, n) "
   ]
  },
  {
   "cell_type": "code",
   "execution_count": 11,
   "metadata": {},
   "outputs": [
    {
     "name": "stdout",
     "output_type": "stream",
     "text": [
      "Public key\n",
      "e: 433\n",
      "n: 2537 \n",
      "\n",
      "Private key\n",
      "d: 1609\n",
      "n: 2537\n"
     ]
    }
   ],
   "source": [
    "#provide prime p and q that are prime\n",
    "p=43\n",
    "q=59\n",
    "\n",
    "#generate public key\n",
    "e,n = Find_Public_Key_e(p, q)\n",
    "\n",
    "#print public key\n",
    "print(\"Public key\")\n",
    "print(\"e:\", e)\n",
    "print(\"n:\", n,\"\\n\")\n",
    "\n",
    "#generate private key\n",
    "d,n= Find_Private_Key_d(e, p, q)\n",
    "\n",
    "#print private key\n",
    "print(\"Private key\")\n",
    "print(\"d:\", d)\n",
    "print(\"n:\", n)\n",
    "\n"
   ]
  },
  {
   "cell_type": "markdown",
   "metadata": {},
   "source": [
    "#### Encode and decode the same message\n"
   ]
  },
  {
   "cell_type": "code",
   "execution_count": 12,
   "metadata": {},
   "outputs": [
    {
     "name": "stdout",
     "output_type": "stream",
     "text": [
      "Public key\n",
      "e: 1243\n",
      "n: 2537 \n",
      "\n",
      "Private key\n",
      "d: 2095\n",
      "n: 2537 \n",
      "\n",
      "Origianl message: Hello World \n",
      "\n",
      "Encoded message: [2348, 1906, 352, 352, 2206, 925, 2409, 2206, 115, 352, 1479] \n",
      "\n",
      "Decoded message: Hello World \n",
      "\n",
      "Q.E.D.\n"
     ]
    }
   ],
   "source": [
    "#define p and q that are ptime\n",
    "p=43\n",
    "q=59\n",
    "\n",
    "#generate public key\n",
    "e,n = Find_Public_Key_e(p, q)\n",
    "\n",
    "#print public key\n",
    "print(\"Public key\")\n",
    "print(\"e:\", e)\n",
    "print(\"n:\", n, \"\\n\")\n",
    "\n",
    "#generate private key\n",
    "d,n= Find_Private_Key_d(e, p, q)\n",
    "\n",
    "#print private key\n",
    "print(\"Private key\")\n",
    "print(\"d:\", d)\n",
    "print(\"n:\", n, \"\\n\")\n",
    "\n",
    "# message we want to encrypt\n",
    "Message= \"Hello World\" \n",
    "\n",
    "#print oginal message\n",
    "print(\"Origianl message:\", Message, \"\\n\")\n",
    "\n",
    "\n",
    "#Encoded message and print it:\n",
    "cipher_text=Encode(n,e,Message)\n",
    "print(\"Encoded message:\", cipher_text, \"\\n\")  \n",
    "\n",
    "\n",
    "# decode message back and print it\n",
    "decoded_massage= Decode(n,d,cipher_text) \n",
    "print(\"Decoded message:\", decoded_massage, \"\\n\")\n",
    "\n",
    "\n",
    "\n",
    "#double check decoded_massage is the same as the orignal  message\n",
    "assert decoded_massage == Message\n",
    "\n",
    "print(\"Q.E.D.\") #Q.E.D.\n"
   ]
  },
  {
   "cell_type": "markdown",
   "metadata": {
    "tags": []
   },
   "source": [
    "### 5. How to Break Code. \n",
    "\n",
    "\n",
    "\n",
    "\n",
    "\n",
    "\n",
    "\n"
   ]
  },
  {
   "cell_type": "code",
   "execution_count": 13,
   "metadata": {},
   "outputs": [],
   "source": [
    "#build a brute force factorization function to break codes based on the Pseudocode provided above\n",
    "\n",
    "import time\n",
    "\n",
    "def factorize(n):\n",
    "\n",
    "    st = time.time() #set start time\n",
    "\n",
    "    # n is a number, return the smallest factor of n\n",
    "    for i in range(2,n): #search factors from 2 to n\n",
    "        if n % i==0: #if factor is found\n",
    "            et = time.time() #end time\n",
    "            elapsed_time = et - st\n",
    "            return (i,n//i,elapsed_time) #if factor is found return p, q, and computational time\n",
    "        \n",
    "    \n",
    "    #if factor is not found\n",
    "    et = time.time() #end time\n",
    "    elapsed_time = et - st\n",
    "    return (False,elapsed_time) #if prime and can't find a factor return false.\n",
    "\n",
    "\n",
    "assert ( (factorize(4)[0] == 2) and (factorize(4)[1] == 2) ), \"something wrong\" # making sure nothing silly"
   ]
  },
  {
   "cell_type": "markdown",
   "metadata": {},
   "source": [
    "\n",
    "\n",
    "\n"
   ]
  },
  {
   "cell_type": "markdown",
   "metadata": {},
   "source": [
    "\n",
    "### 6. Multi threading brute force algorithm for breaking code##\n",
    "\n"
   ]
  },
  {
   "cell_type": "code",
   "execution_count": 14,
   "metadata": {},
   "outputs": [
    {
     "data": {
      "image/png": "[encoded data removed]",
      "text/plain": [
       "<Figure size 600x300 with 1 Axes>"
      ]
     },
     "metadata": {},
     "output_type": "display_data"
    },
    {
     "data": {
      "image/png": "[encoded data removed]",
      "text/plain": [
       "<Figure size 600x300 with 1 Axes>"
      ]
     },
     "metadata": {},
     "output_type": "display_data"
    }
   ],
   "source": [
    "\n",
    "#import libraries\n",
    "import time\n",
    "import random\n",
    "import math\n",
    "import threading\n",
    "import matplotlib.pyplot as plt    \n",
    "\n",
    "\n",
    "#brute force algorithm, no threading\n",
    "#modified from the Pseudocode provided above\n",
    "def bf_factorize(n):\n",
    "    \"\"\"\n",
    "    Brute force factorization method\n",
    "    The input is an integer, n.\n",
    "    If n is not prime, it will return factors of n and elapsed time to calculate n. \n",
    "    If n is prime, it will return false, and elapased time to figure n is prime.\n",
    "    \n",
    "    \"\"\"\n",
    "    st = time.time() #set start time\n",
    "\n",
    "    # n is a number, return the smallest factor of n\n",
    "    #search factors from 2 to n\n",
    "    for i in range(2,n): \n",
    "        if n % i==0: #if factor is found\n",
    "            et = time.time() #end time\n",
    "            elapsed_time = et - st\n",
    "            return (i,n//i,elapsed_time) #if factor is found return p, q, and computational time\n",
    "        \n",
    "    \n",
    "    #if factor is not found\n",
    "    et = time.time() #end time\n",
    "    elapsed_time = et - st\n",
    "    return (False,elapsed_time) #if prime and can't find a factor return false.\n",
    "\n",
    "\n",
    "\n",
    "#reuse FME function we built above as it is needed for the PollardRho function\n",
    "def FME(b, n, m):\n",
    "    #initialize the result to 1 and start with b then repeatdly square\n",
    "    result = 1 \n",
    "    square=b \n",
    "        \n",
    "    while (n>0): #loop to convert to binary, stop when quotient is 0,get the least sig. bit in order and update the quotient\n",
    "        k = n % 2 \n",
    "        n= n//2 \n",
    "        if k == 1:  #if bit is 1, update results\n",
    "            result = (result * square) % m\n",
    "        square = (square * square) % m #repeatedly square b and find remainder \n",
    "    return result\n",
    " \n",
    "    \n",
    "# Polland Rho Function modified from geeksforgeeks\n",
    "#https://www.geeksforgeeks.org/pollards-rho-algorithm-prime-factorization/\n",
    "#Note, I am only analyzing the code here for fun.\n",
    "#I added small time function inside\n",
    "def PollardRho( n):\n",
    "    st = time.time() #set start time\n",
    "\n",
    " \n",
    "    # no prime divisor for 1\n",
    "    if (n == 1):\n",
    "        et = time.time() #end time\n",
    "        elapsed_time = et - st   \n",
    "        return n,elapsed_time\n",
    " \n",
    "    # even number means one of the divisors is 2\n",
    "    if (n % 2 == 0):\n",
    "        et = time.time() #end time\n",
    "        elapsed_time = et - st   \n",
    "        return 2,elapsed_time\n",
    " \n",
    "    # we will pick from the range [2, N)\n",
    "    x = (random.randint(0, 2) % (n - 2))\n",
    "    y = x\n",
    " \n",
    "    # the constant in f(x).\n",
    "    # Algorithm can be re-run with a different c\n",
    "    # if it throws failure for a composite.\n",
    "    c = (random.randint(0, 1) % (n - 1))\n",
    " \n",
    "    # Initialize candidate divisor (or result)\n",
    "    d = 1\n",
    " \n",
    "    # until the prime factor isn't obtained.\n",
    "    # If n is prime, return n\n",
    "    while (d == 1):\n",
    "     \n",
    "        # Tortoise Move: x(i+1) = f(x(i))\n",
    "        x = (FME(x, 2, n) + c + n)%n\n",
    " \n",
    "        # Hare Move: y(i+1) = f(f(y(i)))\n",
    "        y = (FME(y, 2, n) + c + n)%n\n",
    "        y = (FME(y, 2, n) + c + n)%n\n",
    " \n",
    "        # check gcd of |x-y| and n\n",
    "        d = math.gcd(abs(x - y), n)\n",
    " \n",
    "        # retry if the algorithm fails to find prime factor\n",
    "        # with chosen x and c\n",
    "        if (d == n):\n",
    "            return PollardRho(n)\n",
    "    \n",
    "    et = time.time() #end time\n",
    "    elapsed_time = et - st    \n",
    "     \n",
    "    return d,elapsed_time\n",
    "\n",
    "\n",
    "#brute force function used my the multi threading function\n",
    "def bf_plus_factorize(n,start,end):\n",
    "    \"\"\"\n",
    "    This is a brute force factorization function\n",
    "    It search for factor within the start and end range you provide\n",
    "    \n",
    "\n",
    "    Parameters\n",
    "    ----------\n",
    "    n : int\n",
    "        number you want to factorize.\n",
    "    start : int\n",
    "        start of seach.\n",
    "    end : int\n",
    "        end of search.\n",
    "\n",
    "    Returns\n",
    "    -------\n",
    "    None. This function only update the global variable listOfFactors and factor_found if needed\n",
    "\n",
    "    \"\"\"\n",
    "    global factor_found #global variable, if factor is found, true if found, false if now\n",
    "    global listOfFactors #stores factors in this global list\n",
    "    \n",
    "    #don't start search with zero or 1, because they are always factors. So correct search start if needed\n",
    "    if (start==0 or start==2):  \n",
    "        start=2\n",
    "        \n",
    "        \n",
    "    # n is a number, return the smallest factor of n\n",
    "    #search factors from start to end (inclusive)\n",
    "    for i in range(start,end+1): \n",
    "        \n",
    "        if factor_found==True:  #if factor is found in any of the threads stop.\n",
    "            return;   \n",
    "            \n",
    "         #if factor is found, append it to the gloabl variable listOfFactors, \n",
    "         #update factor_found to True to stop all other threads\n",
    "         #return the function\n",
    "        if n % i==0:\n",
    "            listOfFactors.append(i)\n",
    "            listOfFactors.append(n//i)\n",
    "            factor_found=True\n",
    "            return\n",
    "        \n",
    "\n",
    "#here comes the fun part.\n",
    "#all code below is written by myself.\n",
    "#I have not looked at any threading function for facorization online. So no idea what is online.\n",
    "\n",
    "def bf_threading_factorize(n,no_threads):\n",
    "    \"\"\"\n",
    "    This is multi threading factorization function.\n",
    "    It split the number you want to factorize into different search segments. Then run brute force algorithm for every search segment\n",
    "    \n",
    "\n",
    "    Parameters\n",
    "    ----------\n",
    "    n : int\n",
    "        integer you want to factorize.\n",
    "    no_threads : int\n",
    "        number of threads you like to perform.\n",
    "\n",
    "    Returns\n",
    "    -------\n",
    "    listOfFactors : List\n",
    "        List contains two factors.\n",
    "    elapsed_time : float\n",
    "        compuational time for the code.\n",
    "\n",
    "    \"\"\"\n",
    "    \n",
    "    st = time.time() #set start time\n",
    "    \n",
    "    global factor_found #global variable to store status if factor is found, true or false\n",
    "    global listOfFactors #lobal variable to store factors\n",
    "    \n",
    "    listOfFactors=[] #list of factors\n",
    "    factor_found=False #initialize factor_found to false. If true stop running the code.\n",
    "\n",
    "\n",
    "    threads=[] #list stores every thread job needed for the join method so we don't return our function early\n",
    "    \n",
    "    sqrt_n=math.ceil(n**(0.5))+1 # we only need to search up to sqrt(n), theorem 2 in the book.\n",
    "\n",
    "    step_size=math.ceil(sqrt_n/no_threads) #step size for seach segments.\n",
    "    \n",
    "    \n",
    "    #create segments or parition for searching for factors using bf_plus_factorize function.\n",
    "    #nunber of partaiton is equal to number of threads\n",
    "    for thread in range(no_threads):\n",
    "        t=threading.Thread(target=bf_plus_factorize, args=((n,int(thread*step_size), int(thread*step_size + step_size-1))) )\n",
    "        t.start()\n",
    "        threads.append(t)\n",
    "    \n",
    "    #don't exit this for loop until you complete running all threads    \n",
    "    for thread in threads:\n",
    "        thread.join()\n",
    "    \n",
    "    #calculate computational time    \n",
    "    et = time.time() #end time\n",
    "    elapsed_time = et - st\n",
    "    \n",
    "    \n",
    "    return (listOfFactors,elapsed_time)\n",
    "        \n",
    "\n",
    "\n",
    "# main function\n",
    "if __name__ == \"__main__\":\n",
    " \n",
    "    #lets start the fun part here!\n",
    "    \n",
    "    #We will analyze the brute force, mutli threading brute force, and Pollard Rho method for factoring numbers. \n",
    "    \n",
    "    #random random modulo numbers with increasing significant digits from Piazza, last one I added it.\n",
    "    modulo_numbers=[323, 667, 1957, 2537, 712031, 19307227, 36904181, 39455893, 8099370991, 999478010521, 999962000357, 13751264097121,4415945413502687]\n",
    "    \n",
    "    \n",
    "    #we fist analyze the number of threads vs computational time fo the mutli threading brute force function\n",
    "    \n",
    "    #store computational time of the different methods in lists\n",
    "    zero_threads_time=[]\n",
    "    one_threads_time=[]\n",
    "    two_threads_time=[]\n",
    "    four_threads_time=[]\n",
    "    eight_threads_time=[]\n",
    "    PollardRho_threads_time=[]\n",
    "    \n",
    "    \n",
    "    #store smallest factor of the different methods in lists\n",
    "    zero_threads_s_factor=[]\n",
    "    one_threads_s_factor=[]\n",
    "    two_threads_s_factor=[]\n",
    "    four_threads_s_factor=[]\n",
    "    eight_threads_s_factor=[]\n",
    "    PollardRho_threads_s_factor=[]\n",
    "    \n",
    "    \n",
    "    #run every method for every number in the modulo numbers list, store the computational time and smallest factor\n",
    "    for mod in modulo_numbers:\n",
    "        zero=bf_factorize(mod)\n",
    "        zero_threads_time.append(zero[2]) #store computatioanl time\n",
    "        zero_threads_s_factor.append(min(zero[0],zero[1])) #store smallest factor\n",
    "        \n",
    "        one=bf_threading_factorize(mod,1)\n",
    "        one_threads_time.append(one[1])\n",
    "        one_threads_s_factor.append(min(one[0][0],one[0][1]))\n",
    "        \n",
    "        two=bf_threading_factorize(mod,2)        \n",
    "        two_threads_time.append(two[1])\n",
    "        two_threads_s_factor.append(min(two[0][0],two[0][1]))\n",
    "    \n",
    "        four=bf_threading_factorize(mod,4) \n",
    "        four_threads_time.append(four[1])\n",
    "        four_threads_s_factor.append(min(four[0][0],two[0][1]))\n",
    "        \n",
    "        \n",
    "        eight=bf_threading_factorize(mod,8) \n",
    "        eight_threads_time.append(eight[1])\n",
    "        eight_threads_s_factor.append(min(eight[0][0],eight[0][1]))\n",
    "\n",
    "        Pollard=PollardRho(mod)\n",
    "        PollardRho_threads_time.append(Pollard[1])\n",
    "        PollardRho_threads_s_factor.append(min(Pollard[0],mod//Pollard[0]))\n",
    "\n",
    "   \n",
    "    #plot computational time results\n",
    "    plt.figure(figsize=(6, 3))\n",
    "    plt.plot(modulo_numbers,zero_threads_time,\"--o\",label=\"BF: No threading\")\n",
    "    plt.plot(modulo_numbers,one_threads_time,\"-o\",label=\"BF: 1 Threads\")\n",
    "    plt.plot(modulo_numbers,two_threads_time,\"-o\",label=\"BF: 2 Threads\")\n",
    "    plt.plot(modulo_numbers,four_threads_time,\"-o\",label=\"BF: 4 Threads\")\n",
    "    plt.plot(modulo_numbers,eight_threads_time,\"-o\",label=\"BF: 8 Threads\")\n",
    "    plt.plot(modulo_numbers,PollardRho_threads_time,\"--o\",label=\"Pollard Rho\")\n",
    "    plt.xscale(\"log\")\n",
    "    plt.legend()\n",
    "    plt.xlabel('Modulus, n')\n",
    "    plt.title(\"Time to break public key\")\n",
    "    plt.ylabel('Code Clock Time [s]')\n",
    "    plt.show()     \n",
    "    \n",
    "    #plot smallest factor found results\n",
    "    plt.figure(figsize=(6, 3))\n",
    "    plt.plot(modulo_numbers,zero_threads_s_factor,\"--o\",label=\"BF: No threading\")\n",
    "    plt.plot(modulo_numbers,one_threads_s_factor,\"-o\",label=\"BF: 1 Threads\")\n",
    "    plt.plot(modulo_numbers,two_threads_s_factor,\"-o\",label=\"BF: 2 Threads\")\n",
    "    plt.plot(modulo_numbers,four_threads_s_factor,\"-o\",label=\"BF: 4 Threads\")\n",
    "    plt.plot(modulo_numbers,eight_threads_s_factor,\"-o\",label=\"BF: 8 Threads\")\n",
    "    plt.plot(modulo_numbers,PollardRho_threads_s_factor,\"--o\",label=\"Pollard Rho\")\n",
    "    plt.xscale(\"log\")\n",
    "    plt.yscale(\"log\")\n",
    "    plt.legend()\n",
    "    plt.xlabel('Modulus, n')\n",
    "    plt.title(\"Smallest factor using different methods\")\n",
    "    plt.ylabel('Smallest factor')\n",
    "    plt.show()     \n"
   ]
  }
 ],
 "metadata": {
  "kernelspec": {
   "display_name": "Python 3 (ipykernel)",
   "language": "python",
   "name": "python3"
  },
  "language_info": {
   "codemirror_mode": {
    "name": "ipython",
    "version": 3
   },
   "file_extension": ".py",
   "mimetype": "text/x-python",
   "name": "python",
   "nbconvert_exporter": "python",
   "pygments_lexer": "ipython3",
   "version": "3.10.8"
  }
 },
 "nbformat": 4,
 "nbformat_minor": 4
}
